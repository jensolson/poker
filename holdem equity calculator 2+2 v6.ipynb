{
 "cells": [
  {
   "cell_type": "code",
   "execution_count": 1,
   "metadata": {},
   "outputs": [],
   "source": [
    "import array\n",
    "import random\n",
    "import time\n",
    "import numpy as np\n",
    "from scipy.stats import rankdata as rd\n",
    "from itertools import combinations\n",
    "from collections import Counter\n",
    "from tqdm import tqdm"
   ]
  },
  {
   "cell_type": "markdown",
   "metadata": {},
   "source": [
    "### Import HandRanks lookup tables"
   ]
  },
  {
   "cell_type": "code",
   "execution_count": 2,
   "metadata": {},
   "outputs": [
    {
     "name": "stdout",
     "output_type": "stream",
     "text": [
      "fromfile took 0.0827779769897461\n"
     ]
    }
   ],
   "source": [
    "# Import two plus two HandRanks dat file from\n",
    "# https://github.com/christophschmalhofer/poker/blob/master/XPokerEval/XPokerEval.TwoPlusTwo/HandRanks.dat\n",
    "s = time.time()\n",
    "handsDB = open('HandRanks.dat', 'rb')\n",
    "ranks = array.array('i') #signed integer\n",
    "ranks.fromfile(handsDB, 32487834)\n",
    "handsDB.close()\n",
    "e = time.time()\n",
    "print (\"fromfile took\", e-s)\n",
    "\n",
    "# write file to disk for availability in Julia\n",
    "# with open('rks','w') as outfile:\n",
    "#     outfile.write(repr(ranks))"
   ]
  },
  {
   "cell_type": "markdown",
   "metadata": {},
   "source": [
    "### Definitions"
   ]
  },
  {
   "cell_type": "code",
   "execution_count": 3,
   "metadata": {},
   "outputs": [],
   "source": [
    "TT_to_CactKev = {9: 7452, # 10 straight flushes\n",
    "                 8: 7296, # 156 four of a kinds\n",
    "                 7: 7140, # 156 full houses\n",
    "                 6: 5863, # 1277 flushes\n",
    "                 5: 5853, # 10 straights\n",
    "                 4: 4995, # 858 three of a kinds\n",
    "                 3: 4137, # 858 two pairs\n",
    "                 2: 1277, # 2860 pairs\n",
    "                 1: 0}    # 1277 high cards\n",
    "\n",
    "suits = {'c':'\\u2663',\n",
    "         'd':'\\u2662',\n",
    "         'h':'\\u2661',\n",
    "         's':'\\u2660'}\n",
    "\n",
    "def choose(n, k):\n",
    "    \"\"\"\n",
    "    A fast way to calculate binomial coefficients by Andrew Dalke (contrib).\n",
    "    \"\"\"\n",
    "    if 0 <= k <= n:\n",
    "        ntok = 1\n",
    "        ktok = 1\n",
    "        for t in range(1, min(k, n-k) + 1):\n",
    "            ntok *= n\n",
    "            ktok *= t\n",
    "            n -= 1\n",
    "        return ntok // ktok\n",
    "    else:\n",
    "        return 0\n",
    "\n",
    "def get22Rank(hand):\n",
    "# https://www.reddit.com/r/learnpython/comments/6dqv39/comment/di4totk/\n",
    "    p = 53\n",
    "    for card in hand:\n",
    "        p = ranks[p+card]\n",
    "    return p\n",
    "\n",
    "def getCKEquiv(hand):\n",
    "    rank = get22Rank(hand)\n",
    "    handClass = rank >> 12\n",
    "    rankInClass = rank & 0x00000FFF\n",
    "    equivRank = 7463-TT_to_CactKev[handClass]-rankInClass\n",
    "    return equivRank\n",
    "\n",
    "def getHandClass(rank):\n",
    "    if rank <=   10: return \"Straight flush\"\n",
    "    if rank <=  166: return \"Four of a kind\"\n",
    "    if rank <=  322: return \"Full house\"\n",
    "    if rank <= 1599: return \"Flush\"\n",
    "    if rank <= 1609: return \"Straight\"\n",
    "    if rank <= 2467: return \"Three of a kind\"\n",
    "    if rank <= 3325: return \"Two pair\"\n",
    "    if rank <= 6185: return \"Pair\"\n",
    "    else: return \"High card\"    \n",
    "\n",
    "def get_pretty_card(card_int):\n",
    "    return deck_int_to_str[card_int][0]+suits[deck_int_to_str[card_int][1]]\n",
    "\n",
    "deck_int_to_str = dict(zip(range(1,53), [i+j for i in \"23456789TJQKA\" for j in \"cdhs\"]))\n",
    "deck_str_to_int = {v: k for k, v in deck_int_to_str.items()}\n",
    "deck = list(deck_int_to_str)\n",
    "\n",
    "hand_classes = ['Straight flush', 'Four of a kind', 'Full house', 'Flush', \n",
    "                'Straight', 'Three of a kind', 'Two pair', 'Pair', 'High card']\n",
    "\n",
    "getHandClassVec = np.vectorize(getHandClass)"
   ]
  },
  {
   "cell_type": "markdown",
   "metadata": {},
   "source": [
    "### Deal hole cards, calculate pre-flop equity and potential hand distribution"
   ]
  },
  {
   "cell_type": "code",
   "execution_count": 4,
   "metadata": {
    "scrolled": false
   },
   "outputs": [
    {
     "name": "stderr",
     "output_type": "stream",
     "text": [
      "100%|██████████| 100000/100000 [00:01<00:00, 72709.70it/s]\n"
     ]
    },
    {
     "name": "stdout",
     "output_type": "stream",
     "text": [
      "434,369 hands per second\n",
      "\n",
      "Pre-flop equity:\n",
      "  13%  7♡ 4♡\n",
      "  10%  6♡ 7♣\n",
      "  15%  6♠ J♣\n",
      "  21%  A♡ 8♡\n",
      "  34%  T♢ A♢\n",
      "   8%  5♣ J♢\n",
      "Wall time: 1.61 s\n"
     ]
    }
   ],
   "source": [
    "%%time\n",
    "n_players = 6\n",
    "n_sims = min(choose(52-2*n_players,5), 10**5)\n",
    "count_classes = False\n",
    "\n",
    "# Deal hole cards, get pretty suits\n",
    "#hole_cards = [deck_str_to_int[x] for x in ['Ac','Kd','7d','2d','5c','Js','Ad','Kc','7h','2s','5h','Jd']]\n",
    "hole_cards = random.sample(deck, k=n_players*2)\n",
    "holes_by_player = [[hole_cards[i], hole_cards[i+n_players]] for i in range(n_players)]\n",
    "hole_cards_pretty = [get_pretty_card(x) for x in hole_cards]\n",
    "holes_by_player_pretty = [[hole_cards_pretty[i], hole_cards_pretty[i+n_players]] for i in range(n_players)]\n",
    "\n",
    "# Compute and print pre-flop equity using Monte Carlo sim\n",
    "rank_array = np.zeros([n_sims, n_players])\n",
    "avail_for_flop = [x for x in deck if x not in hole_cards]\n",
    "\n",
    "if n_sims < choose(52-2*n_players,5):\n",
    "    community_card_samples = random.sample(list(combinations(avail_for_flop, 5)), n_sims)\n",
    "else:\n",
    "    community_card_samples = list(combinations(avail_for_flop, 5))\n",
    "\n",
    "t0 = time.time()\n",
    "for k, community_cards in enumerate(tqdm(community_card_samples)):\n",
    "    for i in range(n_players):\n",
    "        rank_array[k, i] = getCKEquiv([*holes_by_player[i], *community_cards])\n",
    "t1 = time.time()\n",
    "print(\"{:,.0f}\".format(n_sims*n_players/(t1-t0)), \"hands per second\\n\")\n",
    "\n",
    "# use argmin here as scipy rankdata slow for large n_sims\n",
    "win_counter = Counter(rank_array.argmin(axis=1))\n",
    "preflop_equity = [win_counter[i]/n_sims for i in range(n_players)]\n",
    "\n",
    "print(\"Pre-flop equity:\")\n",
    "for j in range(n_players):\n",
    "    print(\"{:5.0%}\".format(preflop_equity[j]), \"\",\n",
    "          *holes_by_player_pretty[j])\n",
    "    \n",
    "# Get counts of hand by class\n",
    "if count_classes:\n",
    "    counts = Counter(getHandClassVec(rank_array).reshape(1,-1)[0])\n",
    "    print(\"\")\n",
    "    for c in hand_classes:\n",
    "        print(\"{:7.2%}\".format(counts[c]/n_sims/n_players), c)\n",
    "    print(\"\")"
   ]
  },
  {
   "cell_type": "markdown",
   "metadata": {},
   "source": [
    "### Flop"
   ]
  },
  {
   "cell_type": "code",
   "execution_count": 10,
   "metadata": {},
   "outputs": [
    {
     "name": "stdout",
     "output_type": "stream",
     "text": [
      "Flop: 4♠ K♡ K♣\n",
      "\n",
      "Post-flop equity and improvement vs. pre-flop:\n",
      "  32%  +19%   7♡ 4♡\n",
      "   9%   -0%   6♡ 7♣\n",
      "  11%   -4%   6♠ J♣\n",
      "  16%   -4%   A♡ 8♡\n",
      "  23%  -11%   T♢ A♢\n",
      "   9%   +1%   5♣ J♢\n"
     ]
    }
   ],
   "source": [
    "# Will be exact equity as # of combos small enough to not have to use Monte Carlo\n",
    "combos_post_flop = choose(52-2*n_players-3, 2)\n",
    "rank_array = np.zeros([combos_post_flop, n_players])\n",
    "\n",
    "flop = random.sample(avail_for_flop, k=3)\n",
    "pretty_flop = [get_pretty_card(x) for x in flop]\n",
    "avail_for_turn = [x for x in avail_for_flop if x not in flop]\n",
    "\n",
    "print(\"Flop:\", *pretty_flop)\n",
    "\n",
    "for k, turn_and_river in enumerate(combinations(avail_for_turn, 2)):\n",
    "    for i in range(n_players):\n",
    "        rank_array[k, i] = getCKEquiv([*holes_by_player[i], *flop, *turn_and_river])\n",
    "\n",
    "wins_array = rd(rank_array, axis=1, method='min')==1\n",
    "wins_total = (rd(rank_array, axis=1, method='min')==1).sum(axis=1).reshape(-1,1)\n",
    "postflop_equity = np.sum(wins_array/wins_total, axis=0)/combos_post_flop\n",
    "        \n",
    "print(\"\\nPost-flop equity and improvement vs. pre-flop:\")\n",
    "for j in range(n_players):\n",
    "    print(\"{:5.0%}\".format(postflop_equity[j]), \n",
    "          \"{:+5.0%}\".format(postflop_equity[j]-preflop_equity[j]), \" \",\n",
    "          *holes_by_player_pretty[j])"
   ]
  },
  {
   "cell_type": "markdown",
   "metadata": {},
   "source": [
    "### Turn"
   ]
  },
  {
   "cell_type": "code",
   "execution_count": 11,
   "metadata": {},
   "outputs": [
    {
     "name": "stdout",
     "output_type": "stream",
     "text": [
      "Flop: 4♠ K♡ K♣\n",
      "Turn: 6♣\n",
      "\n",
      "Post-turn equity and improvement vs. flop:\n",
      "   8%  -24%  7♡ 4♡\n",
      "  12%   +3%  6♡ 7♣\n",
      "  54%  +43%  6♠ J♣\n",
      "   8%   -8%  A♡ 8♡\n",
      "  14%   -9%  T♢ A♢\n",
      "   3%   -6%  5♣ J♢\n"
     ]
    }
   ],
   "source": [
    "# Will be exact equity as # of combos small enough to not have to use Monte Carlo\n",
    "combos_post_turn = 52-2*n_players-3-1\n",
    "rank_array = np.zeros([combos_post_turn, n_players])\n",
    "\n",
    "turn = random.sample(avail_for_turn, k=1)\n",
    "pretty_turn = get_pretty_card(turn[0])\n",
    "avail_for_river = [x for x in avail_for_turn if x not in turn]\n",
    "\n",
    "print(\"Flop:\", *pretty_flop)\n",
    "print(\"Turn:\", pretty_turn)\n",
    "\n",
    "for k, river in enumerate(combinations(avail_for_river, 1)):\n",
    "    for i in range(n_players):\n",
    "        rank_array[k, i] = getCKEquiv([*holes_by_player[i], *flop, turn[0], river[0]])\n",
    "\n",
    "wins_array = rd(rank_array, axis=1, method='min')==1\n",
    "wins_total = (rd(rank_array, axis=1, method='min')==1).sum(axis=1).reshape(-1,1)\n",
    "postturn_equity = np.sum(wins_array/wins_total, axis=0)/combos_post_turn\n",
    "\n",
    "print(\"\\nPost-turn equity and improvement vs. flop:\")\n",
    "for j in range(n_players):\n",
    "    print(\"{:5.0%}\".format(postturn_equity[j]), \n",
    "          \"{:+5.0%}\".format(postturn_equity[j]-postflop_equity[j]), \"\",\n",
    "          *holes_by_player_pretty[j])"
   ]
  },
  {
   "cell_type": "markdown",
   "metadata": {},
   "source": [
    "### River"
   ]
  },
  {
   "cell_type": "code",
   "execution_count": 12,
   "metadata": {},
   "outputs": [
    {
     "name": "stdout",
     "output_type": "stream",
     "text": [
      "Flop: 4♠ K♡ K♣\n",
      "Turn: 6♣\n",
      "River: T♠\n",
      "\n",
      "Final hand rankings and improvement vs. turn:\n",
      "   0%   -8%  7♡ 4♡\n",
      "   0%  -12%  6♡ 7♣\n",
      "   0%  -54%  6♠ J♣\n",
      "   0%   -8%  A♡ 8♡\n",
      " 100%  +86%  T♢ A♢\n",
      "   0%   -3%  5♣ J♢\n",
      "\n",
      "Winning hand: Two pair\n"
     ]
    }
   ],
   "source": [
    "rank_array = np.zeros([1, n_players])\n",
    "\n",
    "river = random.sample(avail_for_river, k=1)\n",
    "pretty_river = get_pretty_card(river[0])\n",
    "\n",
    "print(\"Flop:\", *pretty_flop)\n",
    "print(\"Turn:\", pretty_turn)\n",
    "print(\"River:\", pretty_river)\n",
    "\n",
    "winning_hand = 7463\n",
    "for i in range(n_players):\n",
    "    rank_array[0, i] = getCKEquiv([*holes_by_player[i], *flop, turn[0], river[0]])\n",
    "    \n",
    "print(\"\\nFinal hand rankings and improvement vs. turn:\")\n",
    "for j in range(n_players):\n",
    "    print(\"{:5.0%}\".format(np.sum(rank_array.argmin(axis=1)==j)), \n",
    "          \"{:+5.0%}\".format(np.sum(rank_array.argmin(axis=1)==j)-postturn_equity[j]), \"\",\n",
    "          *holes_by_player_pretty[j])\n",
    "    \n",
    "print(\"\\nWinning hand:\", getHandClass(np.min(rank_array)))"
   ]
  },
  {
   "cell_type": "code",
   "execution_count": null,
   "metadata": {},
   "outputs": [],
   "source": []
  },
  {
   "cell_type": "code",
   "execution_count": null,
   "metadata": {},
   "outputs": [],
   "source": []
  }
 ],
 "metadata": {
  "kernelspec": {
   "display_name": "Python 3",
   "language": "python",
   "name": "python3"
  },
  "language_info": {
   "codemirror_mode": {
    "name": "ipython",
    "version": 3
   },
   "file_extension": ".py",
   "mimetype": "text/x-python",
   "name": "python",
   "nbconvert_exporter": "python",
   "pygments_lexer": "ipython3",
   "version": "3.8.3"
  }
 },
 "nbformat": 4,
 "nbformat_minor": 4
}
