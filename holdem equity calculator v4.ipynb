{
 "cells": [
  {
   "cell_type": "markdown",
   "metadata": {},
   "source": [
    "#### Imports, deck creation and definitions"
   ]
  },
  {
   "cell_type": "code",
   "execution_count": 1,
   "metadata": {},
   "outputs": [],
   "source": [
    "import numpy as np\n",
    "import pandas as pd\n",
    "from scipy.stats import rankdata as rd\n",
    "import random\n",
    "from collections import OrderedDict\n",
    "from itertools import combinations\n",
    "from functools import reduce"
   ]
  },
  {
   "cell_type": "code",
   "execution_count": 3,
   "metadata": {},
   "outputs": [],
   "source": [
    "def choose(n, k):\n",
    "    \"\"\"\n",
    "    A fast way to calculate binomial coefficients by Andrew Dalke (contrib).\n",
    "    \"\"\"\n",
    "    if 0 <= k <= n:\n",
    "        ntok = 1\n",
    "        ktok = 1\n",
    "        for t in range(1, min(k, n-k) + 1):\n",
    "            ntok *= n\n",
    "            ktok *= t\n",
    "            n -= 1\n",
    "        return ntok // ktok\n",
    "    else:\n",
    "        return 0\n",
    "\n",
    "def get_hand_rank(hand):\n",
    "    \"\"\"\n",
    "    Fast hand evaluator courtesy of \n",
    "    https://suffe.cool/poker/evaluator.html\n",
    "    \n",
    "    Input hand 'h' with cards in binary representation, i.e.,\n",
    "    for h = ('Ac', 'Kd', 'Kh', 'Tc', '4d'), get binary representation\n",
    "    using get_bin_rep function defined below. Here, binary representation is\n",
    "    bh = (268471337, 134236965, 134228773, 16812055, 279045)\n",
    "    \n",
    "    >> get_hand_rank(bh)\n",
    "    3570\n",
    "    \n",
    "    3570 is the unique rank for pair of Kings\n",
    "    \n",
    "    \"\"\"\n",
    "    q = reduce(lambda x,y: x|y, hand) >> 16\n",
    "    if (reduce(lambda x,y: x&y, hand) & 0xF000) != 0:\n",
    "        return flushes[q]\n",
    "    elif q in uniques:\n",
    "        return uniques[q]\n",
    "    else:\n",
    "        primes = [(c & 0xFF) for c in hand]\n",
    "        r = reduce(lambda x,y: x*y, primes)\n",
    "        return balance[r]\n",
    "\n",
    "def get_bin_rep(card):\n",
    "    r, s = card[0], card[1]\n",
    "    return (ranks[r][0] << 16) | (suits[s][0] << 12) | (ranks[r][1] << 8) | ranks[r][2]\n",
    "\n",
    "# Create deck\n",
    "suits = {'c':[0b1000,'\\u2663'],\n",
    "         'd':[0b0100,'\\u2662'],\n",
    "         'h':[0b0010,'\\u2661'],\n",
    "         's':[0b0001,'\\u2660']}\n",
    "\n",
    "ranks = {'A': [0b0001000000000000, 12, 41],\n",
    "         'K': [0b0000100000000000, 11, 37],\n",
    "         'Q': [0b0000010000000000, 10, 31],\n",
    "         'J': [0b0000001000000000,  9, 29],\n",
    "         'T': [0b0000000100000000,  8, 23],\n",
    "         '9': [0b0000000010000000,  7, 19],\n",
    "         '8': [0b0000000001000000,  6, 17],\n",
    "         '7': [0b0000000000100000,  5, 13],\n",
    "         '6': [0b0000000000010000,  4, 11],\n",
    "         '5': [0b0000000000001000,  3,  7],\n",
    "         '4': [0b0000000000000100,  2,  5],\n",
    "         '3': [0b0000000000000010,  1,  3],\n",
    "         '2': [0b0000000000000001,  0,  2]}\n",
    "\n",
    "deck = []\n",
    "for i in ranks:\n",
    "    for j in suits:\n",
    "        deck.append(i+j)\n",
    "\n",
    "bin_deck = [get_bin_rep(x) for x in deck]\n",
    "bin_deck_dict = dict(zip(bin_deck, deck))\n",
    "\n",
    "def get_pretty_suits(bin_card):\n",
    "    card = bin_deck_dict[bin_card]\n",
    "    return card[0]+suits[card[1]][1]"
   ]
  },
  {
   "cell_type": "code",
   "execution_count": 4,
   "metadata": {},
   "outputs": [],
   "source": [
    "\"\"\"\n",
    "Get hand ranks; apply primes (\"p\") and \"qs\" (\"q\") from ranks dict\n",
    "per Cactus Kevin hash scheme\n",
    "\"\"\"\n",
    "df = pd.read_csv('poker hand equivalence classes.csv')\n",
    "df['p'] = 1\n",
    "df['q'] = 0\n",
    "for i in range(5):\n",
    "    df['p'] *= df['c'+str(i+1)].apply(lambda x: ranks[x][2])\n",
    "    df['q'] |= df['c'+str(i+1)].apply(lambda x: ranks[x][0])\n",
    "\n",
    "# Create ordered lookup tables for flushes, uniques, and balance of hands    \n",
    "flush_mask = df.Hand.isin(['RF', 'SF', 'F'])\n",
    "uniques_mask = df.Hand.isin(['S', 'HC'])\n",
    "\n",
    "df_flushes = df.loc[flush_mask]\n",
    "df_uniques = df.loc[uniques_mask]\n",
    "df_balance = df.loc[~flush_mask & ~uniques_mask]\n",
    "\n",
    "flush_dict = dict(zip(df_flushes.q, df_flushes.Rank))\n",
    "flushes = dict(OrderedDict(sorted(flush_dict.items())))\n",
    "\n",
    "uniques_dict = dict(zip(df_uniques.q, df_uniques.Rank))\n",
    "uniques = dict(OrderedDict(sorted(uniques_dict.items())))\n",
    "\n",
    "balance_dict = dict(zip(df_balance.p, df_balance.Rank))\n",
    "balance = dict(OrderedDict(sorted(balance_dict.items())))"
   ]
  },
  {
   "cell_type": "markdown",
   "metadata": {},
   "source": [
    "#### Choose number of players, deal hole cards, and compute pre-flop equity"
   ]
  },
  {
   "cell_type": "code",
   "execution_count": 40,
   "metadata": {},
   "outputs": [
    {
     "name": "stdout",
     "output_type": "stream",
     "text": [
      "Pre-flop equity:\n",
      "  26%  ['T♣', 'Q♡']\n",
      "  25%  ['4♠', 'A♢']\n",
      "  11%  ['4♣', '8♡']\n",
      "  11%  ['K♡', '2♡']\n",
      "  19%  ['9♣', 'K♣']\n",
      "   9%  ['5♣', '2♣']\n"
     ]
    }
   ],
   "source": [
    "# Deal hole cards\n",
    "players = 6\n",
    "hole_cards = random.sample(bin_deck, k=players*2)\n",
    "avail_for_flop = [x for x in bin_deck if x not in hole_cards]\n",
    "\n",
    "holes1 = hole_cards[:players]\n",
    "holes2 = hole_cards[players:]\n",
    "holes_by_player = [tuple(ele) for ele in list(zip(holes1, holes2))]\n",
    "\n",
    "# Pretty suits\n",
    "hole_cards_pretty = list(map(get_pretty_suits, hole_cards))\n",
    "holes1p = hole_cards_pretty[:players]\n",
    "holes2p = hole_cards_pretty[players:]\n",
    "holes_by_player_pretty = [list(ele) for ele in list(zip(holes1p, holes2p))]\n",
    "\n",
    "# Compute and print pre-flop equity using Monte Carlo sim\n",
    "n_sims = 10**4\n",
    "rank_array = np.zeros([n_sims, players])\n",
    "\n",
    "for k in range(n_sims):\n",
    "    community_cards = tuple(random.sample(avail_for_flop, k=5))\n",
    "\n",
    "    for i in range(players):\n",
    "        hole = holes_by_player[i]        \n",
    "        rank_list_iter = []\n",
    "        \n",
    "        for hand in combinations(holes_by_player[i]+community_cards, 5):\n",
    "            rank_list_iter.append(get_hand_rank(hand))\n",
    "\n",
    "        rank_array[k, i] = min(rank_list_iter)\n",
    "        \n",
    "wins_array = rd(rank_array, axis=1, method='min')==1\n",
    "wins_total = (rd(rank_array, axis=1, method='min')==1).sum(axis=1).reshape(-1,1)\n",
    "preflop_equity = np.sum(wins_array/wins_total, axis=0)/k\n",
    "\n",
    "print(\"Pre-flop equity:\")\n",
    "for j in range(players):\n",
    "    print(\"{:5.0%}\".format(preflop_equity[j]), \"\",\n",
    "          holes_by_player_pretty[j])"
   ]
  },
  {
   "cell_type": "markdown",
   "metadata": {},
   "source": [
    "#### Post-flop"
   ]
  },
  {
   "cell_type": "code",
   "execution_count": 41,
   "metadata": {},
   "outputs": [
    {
     "name": "stdout",
     "output_type": "stream",
     "text": [
      "Flop: ['9♡', '8♣', 'J♠'] \n",
      "\n",
      "Post-flop equity and improvement vs. pre-flop:\n",
      "  88%  +62%  ['T♣', 'Q♡']\n",
      "   0%  -25%  ['4♠', 'A♢']\n",
      "   2%   -9%  ['4♣', '8♡']\n",
      "   5%   -6%  ['K♡', '2♡']\n",
      "   6%  -14%  ['9♣', 'K♣']\n",
      "   0%   -9%  ['5♣', '2♣']\n"
     ]
    }
   ],
   "source": [
    "# Will be exact equity as # of combos small enough to not have to use Monte Carlo\n",
    "combos_post_flop = choose(52-2*players-3, 2)\n",
    "rank_array = np.zeros([combos_post_flop, players])\n",
    "\n",
    "flop = tuple(random.sample(avail_for_flop, k=3))\n",
    "avail_for_turn = [x for x in avail_for_flop if x not in flop]\n",
    "\n",
    "print(\"Flop:\", list(map(get_pretty_suits, flop)), \"\\n\")\n",
    "\n",
    "for k, turn_and_river in enumerate(combinations(avail_for_turn, 2)):\n",
    "    for i in range(players):\n",
    "        rank_list_iter = []\n",
    "        \n",
    "        for hand in combinations(holes_by_player[i]+flop+turn_and_river, 5):\n",
    "            rank_list_iter.append(get_hand_rank(hand))\n",
    "        \n",
    "        rank_array[k, i] = min(rank_list_iter)\n",
    "\n",
    "wins_array = rd(rank_array, axis=1, method='min')==1\n",
    "wins_total = (rd(rank_array, axis=1, method='min')==1).sum(axis=1).reshape(-1,1)\n",
    "postflop_equity = np.sum(wins_array/wins_total, axis=0)/combos_post_flop\n",
    "        \n",
    "print(\"Post-flop equity and improvement vs. pre-flop:\")\n",
    "for j in range(players):\n",
    "    print(\"{:5.0%}\".format(postflop_equity[j]), \n",
    "          \"{:+5.0%}\".format(postflop_equity[j]-preflop_equity[j]), \"\",\n",
    "          holes_by_player_pretty[j])"
   ]
  },
  {
   "cell_type": "markdown",
   "metadata": {},
   "source": [
    "#### Post-turn, pre-river"
   ]
  },
  {
   "cell_type": "code",
   "execution_count": 42,
   "metadata": {},
   "outputs": [
    {
     "name": "stdout",
     "output_type": "stream",
     "text": [
      "Flop: ['9♡', '8♣', 'J♠']\n",
      "Turn: ['T♠'] \n",
      "\n",
      "Post-turn equity and improvement vs. flop:\n",
      "  92%   +4%  ['T♣', 'Q♡']\n",
      "   0%   +0%  ['4♠', 'A♢']\n",
      "   0%   -2%  ['4♣', '8♡']\n",
      "   4%   -1%  ['K♡', '2♡']\n",
      "   4%   -2%  ['9♣', 'K♣']\n",
      "   0%   +0%  ['5♣', '2♣']\n"
     ]
    }
   ],
   "source": [
    "# Will be exact equity as # of combos small enough to not have to use Monte Carlo\n",
    "combos_post_turn = 52-2*players-3-1\n",
    "rank_array = np.zeros([combos_post_turn, players])\n",
    "\n",
    "turn = tuple(random.sample(avail_for_turn, k=1))\n",
    "avail_for_river = [x for x in avail_for_turn if x not in turn]\n",
    "\n",
    "print(\"Flop:\", list(map(get_pretty_suits, flop)))\n",
    "print(\"Turn:\", list(map(get_pretty_suits, turn)), \"\\n\")\n",
    "\n",
    "for k, river in enumerate(combinations(avail_for_river, 1)):\n",
    "    for i in range(players):\n",
    "        rank_list_iter = []\n",
    "        \n",
    "        for hand in combinations(holes_by_player[i]+flop+turn+river, 5):\n",
    "            rank_list_iter.append(get_hand_rank(hand))\n",
    "        \n",
    "        rank_array[k, i] = min(rank_list_iter)\n",
    "\n",
    "wins_array = rd(rank_array, axis=1, method='min')==1\n",
    "wins_total = (rd(rank_array, axis=1, method='min')==1).sum(axis=1).reshape(-1,1)\n",
    "postturn_equity = np.sum(wins_array/wins_total, axis=0)/combos_post_turn\n",
    "\n",
    "print(\"Post-turn equity and improvement vs. flop:\")\n",
    "for j in range(players):\n",
    "    print(\"{:5.0%}\".format(postturn_equity[j]), \n",
    "          \"{:+5.0%}\".format(postturn_equity[j]-postflop_equity[j]), \"\",\n",
    "          holes_by_player_pretty[j])"
   ]
  },
  {
   "cell_type": "markdown",
   "metadata": {},
   "source": [
    "#### Post-river final hand rank"
   ]
  },
  {
   "cell_type": "code",
   "execution_count": 43,
   "metadata": {},
   "outputs": [
    {
     "name": "stdout",
     "output_type": "stream",
     "text": [
      "Flop: ['9♡', '8♣', 'J♠']\n",
      "Turn: ['T♠']\n",
      "River: ['J♢'] \n",
      "\n",
      "Final hand rankings and improvement vs. turn:\n",
      " 100%   +8%  ['T♣', 'Q♡']\n",
      "   0%   +0%  ['4♠', 'A♢']\n",
      "   0%   +0%  ['4♣', '8♡']\n",
      "   0%   -4%  ['K♡', '2♡']\n",
      "   0%   -4%  ['9♣', 'K♣']\n",
      "   0%   +0%  ['5♣', '2♣']\n",
      "\n",
      " Winning hand:  Queen-High Straight\n"
     ]
    }
   ],
   "source": [
    "rank_array = np.zeros([1, players])\n",
    "\n",
    "river = tuple(random.sample(avail_for_river, k=1))\n",
    "\n",
    "print(\"Flop:\", list(map(get_pretty_suits, flop)))\n",
    "print(\"Turn:\", list(map(get_pretty_suits, turn)))\n",
    "print(\"River:\", list(map(get_pretty_suits, river)), \"\\n\")\n",
    "\n",
    "for i in range(players):\n",
    "    rank_list_iter = []\n",
    "    \n",
    "    for hand in combinations(holes_by_player[i]+flop+turn+river, 5):\n",
    "        rank_list_iter.append(get_hand_rank(hand))\n",
    "    \n",
    "    rank_array[0, i] = min(rank_list_iter)\n",
    "        \n",
    "print(\"Final hand rankings and improvement vs. turn:\")\n",
    "for j in range(players):\n",
    "    print(\"{:5.0%}\".format(np.sum(rank_array.argmin(axis=1)==j)), \n",
    "          \"{:+5.0%}\".format(np.sum(rank_array.argmin(axis=1)==j)-postturn_equity[j]), \"\",\n",
    "          holes_by_player_pretty[j])\n",
    "\n",
    "print(\"\\n\", \"Winning hand:\",\n",
    "      df.loc[df.Rank==np.min(rank_array), 'HandName'].to_string(index=False))"
   ]
  },
  {
   "cell_type": "code",
   "execution_count": null,
   "metadata": {},
   "outputs": [],
   "source": []
  }
 ],
 "metadata": {
  "kernelspec": {
   "display_name": "Python 3",
   "language": "python",
   "name": "python3"
  },
  "language_info": {
   "codemirror_mode": {
    "name": "ipython",
    "version": 3
   },
   "file_extension": ".py",
   "mimetype": "text/x-python",
   "name": "python",
   "nbconvert_exporter": "python",
   "pygments_lexer": "ipython3",
   "version": "3.8.3"
  }
 },
 "nbformat": 4,
 "nbformat_minor": 4
}
