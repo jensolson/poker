{
 "cells": [
  {
   "cell_type": "markdown",
   "metadata": {},
   "source": [
    "#### Imports, deck creation and definitions"
   ]
  },
  {
   "cell_type": "code",
   "execution_count": 2,
   "metadata": {},
   "outputs": [],
   "source": [
    "import numpy as np\n",
    "import pandas as pd\n",
    "from scipy.stats import rankdata as rd\n",
    "import random\n",
    "from collections import OrderedDict\n",
    "from itertools import combinations\n",
    "from functools import reduce"
   ]
  },
  {
   "cell_type": "code",
   "execution_count": 3,
   "metadata": {},
   "outputs": [],
   "source": [
    "def choose(n, k):\n",
    "    \"\"\"\n",
    "    A fast way to calculate binomial coefficients by Andrew Dalke (contrib).\n",
    "    \"\"\"\n",
    "    if 0 <= k <= n:\n",
    "        ntok = 1\n",
    "        ktok = 1\n",
    "        for t in range(1, min(k, n-k) + 1):\n",
    "            ntok *= n\n",
    "            ktok *= t\n",
    "            n -= 1\n",
    "        return ntok // ktok\n",
    "    else:\n",
    "        return 0\n",
    "\n",
    "def get_hand_rank(hand):\n",
    "    \"\"\"\n",
    "    Fast hand evaluator courtesy of \n",
    "    https://suffe.cool/poker/evaluator.html\n",
    "    \n",
    "    Input hand 'h' with cards in binary representation, i.e.,\n",
    "    for h = ('Ac', 'Kd', 'Kh', 'Tc', '4d'), get binary representation\n",
    "    using get_bin_rep function defined below. Here, binary representation is\n",
    "    bh = (268471337, 134236965, 134228773, 16812055, 279045)\n",
    "    \n",
    "    >> get_hand_rank(bh)\n",
    "    3570\n",
    "    \n",
    "    3570 is the unique rank for pair of Kings\n",
    "    \n",
    "    \"\"\"\n",
    "    q = reduce(lambda x,y: x|y, hand) >> 16\n",
    "    if (reduce(lambda x,y: x&y, hand) & 0xF000) != 0:\n",
    "        return flushes[q]\n",
    "    elif q in uniques:\n",
    "        return uniques[q]\n",
    "    else:\n",
    "        primes = [(c & 0xFF) for c in hand]\n",
    "        r = reduce(lambda x,y: x*y, primes)\n",
    "        return balance[r]\n",
    "\n",
    "def get_bin_rep(card):\n",
    "    r, s = card[0], card[1]\n",
    "    return (ranks[r][0] << 16) | (suits[s][0] << 12) | (ranks[r][1] << 8) | ranks[r][2]\n",
    "\n",
    "# Create deck\n",
    "suits = {'c':[0b1000,'\\u2663'],\n",
    "         'd':[0b0100,'\\u2662'],\n",
    "         'h':[0b0010,'\\u2661'],\n",
    "         's':[0b0001,'\\u2660']}\n",
    "\n",
    "ranks = {'A': [0b0001000000000000, 12, 41],\n",
    "         'K': [0b0000100000000000, 11, 37],\n",
    "         'Q': [0b0000010000000000, 10, 31],\n",
    "         'J': [0b0000001000000000,  9, 29],\n",
    "         'T': [0b0000000100000000,  8, 23],\n",
    "         '9': [0b0000000010000000,  7, 19],\n",
    "         '8': [0b0000000001000000,  6, 17],\n",
    "         '7': [0b0000000000100000,  5, 13],\n",
    "         '6': [0b0000000000010000,  4, 11],\n",
    "         '5': [0b0000000000001000,  3,  7],\n",
    "         '4': [0b0000000000000100,  2,  5],\n",
    "         '3': [0b0000000000000010,  1,  3],\n",
    "         '2': [0b0000000000000001,  0,  2]}\n",
    "\n",
    "deck = []\n",
    "for i in ranks:\n",
    "    for j in suits:\n",
    "        deck.append(i+j)\n",
    "\n",
    "bin_deck = [get_bin_rep(x) for x in deck]\n",
    "bin_deck_dict = dict(zip(bin_deck, deck))\n",
    "\n",
    "def get_pretty_suits(bin_card):\n",
    "    card = bin_deck_dict[bin_card]\n",
    "    return card[0]+suits[card[1]][1]"
   ]
  },
  {
   "cell_type": "code",
   "execution_count": 4,
   "metadata": {},
   "outputs": [],
   "source": [
    "# Get hand ranks from Cactus Kevin database; apply primes from ranks dict;\n",
    "# create flush and non-flush dictionary\n",
    "df = pd.read_csv('poker hand equivalence classes.csv')\n",
    "\n",
    "df['prime_prods'] = df['c1'].apply(lambda x: ranks[x][2])*\\\n",
    "                    df['c2'].apply(lambda x: ranks[x][2])*\\\n",
    "                    df['c3'].apply(lambda x: ranks[x][2])*\\\n",
    "                    df['c4'].apply(lambda x: ranks[x][2])*\\\n",
    "                    df['c5'].apply(lambda x: ranks[x][2])\n",
    "\n",
    "for i in range(5):\n",
    "    df['c'+str(i+1)+'r'] = [x[0] for x in df['c'+str(i+1)].map(ranks)]\n",
    "    \n",
    "df['q'] = (df['c1r'] | df['c2r'] | df['c3r'] | df['c4r'] | df['c5r'])\n",
    "\n",
    "flush_mask = df.Hand.isin(['RF', 'SF', 'F'])\n",
    "uniques_mask = df.Hand.isin(['S', 'HC'])\n",
    "\n",
    "df_flushes = df.loc[flush_mask]\n",
    "df_uniques = df.loc[uniques_mask]\n",
    "df_balance = df.loc[~flush_mask & ~uniques_mask]\n",
    "\n",
    "flush_dict = dict(zip(df_flushes.q, df_flushes.Rank))\n",
    "flushes = dict(OrderedDict(sorted(flush_dict.items())))\n",
    "\n",
    "uniques_dict = dict(zip(df_uniques.q, df_uniques.Rank))\n",
    "uniques = dict(OrderedDict(sorted(uniques_dict.items())))\n",
    "\n",
    "balance_dict = dict(zip(df_balance.prime_prods, df_balance.Rank))\n",
    "balance = dict(OrderedDict(sorted(balance_dict.items())))"
   ]
  },
  {
   "cell_type": "markdown",
   "metadata": {},
   "source": [
    "#### Choose number of players and deal hole cards"
   ]
  },
  {
   "cell_type": "code",
   "execution_count": 10,
   "metadata": {},
   "outputs": [
    {
     "name": "stdout",
     "output_type": "stream",
     "text": [
      "Hands:\n",
      "['7♢', 'A♢']\n",
      "['4♢', 'T♢']\n",
      "['K♡', 'T♠']\n",
      "['5♣', '5♠']\n",
      "['T♣', 'K♠']\n",
      "['8♢', 'Q♢']\n"
     ]
    }
   ],
   "source": [
    "players = 6\n",
    "hole_cards = random.sample(bin_deck, k=players*2)\n",
    "avail_for_flop = [x for x in bin_deck if x not in hole_cards]\n",
    "\n",
    "holes1 = hole_cards[:players]\n",
    "holes2 = hole_cards[players:]\n",
    "holes_by_player = [tuple(ele) for ele in list(zip(holes1, holes2))]\n",
    "\n",
    "# Pretty suits\n",
    "hole_cards_pretty = list(map(get_pretty_suits, hole_cards))\n",
    "holes1p = hole_cards_pretty[:players]\n",
    "holes2p = hole_cards_pretty[players:]\n",
    "holes_by_player_pretty = [list(ele) for ele in list(zip(holes1p, holes2p))]\n",
    "\n",
    "print(\"Hands:\")\n",
    "for i in range(players):\n",
    "    print(holes_by_player_pretty[i])"
   ]
  },
  {
   "cell_type": "markdown",
   "metadata": {},
   "source": [
    "#### Pre-flop equity calculator"
   ]
  },
  {
   "cell_type": "code",
   "execution_count": 11,
   "metadata": {
    "scrolled": true
   },
   "outputs": [
    {
     "name": "stdout",
     "output_type": "stream",
     "text": [
      "Hole cards and equity:\n",
      "['7♢', 'A♢'] 0.287\n",
      "['4♢', 'T♢'] 0.043\n",
      "['K♡', 'T♠'] 0.087\n",
      "['5♣', '5♠'] 0.275\n",
      "['T♣', 'K♠'] 0.087\n",
      "['8♢', 'Q♢'] 0.221\n"
     ]
    }
   ],
   "source": [
    "# Monte Carlo sim\n",
    "n_sims = 10**4\n",
    "rank_array = np.zeros([n_sims, players])\n",
    "\n",
    "for k in range(n_sims):\n",
    "    community_cards = random.sample(avail_for_flop, k=5)\n",
    "\n",
    "    for i in range(players):\n",
    "        hole = holes_by_player[i]        \n",
    "        rank_list_iter = []\n",
    "        \n",
    "        for combo in combinations(community_cards, 3):\n",
    "            rank_list_iter.append(get_hand_rank(hole+combo))\n",
    "\n",
    "        rank_array[k, i] = min(rank_list_iter)\n",
    "        \n",
    "wins_array = rd(rank_array, axis=1, method='min')==1\n",
    "wins_total = (rd(rank_array, axis=1, method='min')==1).sum(axis=1).reshape(-1,1)\n",
    "equity = np.sum(wins_array/wins_total, axis=0)/k\n",
    "\n",
    "print(\"Hole cards and equity:\")\n",
    "for j in range(players):\n",
    "    print(list(map(get_pretty_suits, holes_by_player[j])),\n",
    "          \"{:.3f}\".format(equity[j]))"
   ]
  },
  {
   "cell_type": "markdown",
   "metadata": {},
   "source": [
    "#### Post-flop"
   ]
  },
  {
   "cell_type": "code",
   "execution_count": 12,
   "metadata": {},
   "outputs": [
    {
     "name": "stdout",
     "output_type": "stream",
     "text": [
      "Flop: ['2♠', 'A♣', '2♢'] \n",
      "\n",
      "Hole cards and equity:\n",
      "['7♢', 'A♢'] 0.760\n",
      "['4♢', 'T♢'] 0.005\n",
      "['K♡', 'T♠'] 0.010\n",
      "['5♣', '5♠'] 0.207\n",
      "['T♣', 'K♠'] 0.010\n",
      "['8♢', 'Q♢'] 0.009\n"
     ]
    }
   ],
   "source": [
    "# Will be exact equity as # of combos small enough to not have to use Monte Carlo\n",
    "combos_post_flop = choose(52-2*players-3, 2)\n",
    "rank_array = np.zeros([combos_post_flop, players])\n",
    "\n",
    "flop = tuple(random.sample(avail_for_flop, k=3))\n",
    "avail_for_turn = [x for x in avail_for_flop if x not in flop]\n",
    "\n",
    "print(\"Flop:\", list(map(get_pretty_suits, flop)), \"\\n\")\n",
    "\n",
    "for k, turn_and_river in enumerate(combinations(avail_for_turn, 2)):\n",
    "    for i in range(players):\n",
    "        hole = holes_by_player[i]\n",
    "        rank_list_iter = []\n",
    "        \n",
    "        for combo in combinations(flop+turn_and_river, 3):\n",
    "            rank_list_iter.append(get_hand_rank(hole+combo))\n",
    "        \n",
    "        rank_array[k, i] = min(rank_list_iter)\n",
    "\n",
    "wins_array = rd(rank_array, axis=1, method='min')==1\n",
    "wins_total = (rd(rank_array, axis=1, method='min')==1).sum(axis=1).reshape(-1,1)\n",
    "equity = np.sum(wins_array/wins_total, axis=0)/combos_post_flop\n",
    "        \n",
    "print(\"Hole cards and equity:\")\n",
    "for j in range(players):\n",
    "    print(list(map(get_pretty_suits, holes_by_player[j])),\n",
    "          \"{:.3f}\".format(equity[j]))"
   ]
  },
  {
   "cell_type": "markdown",
   "metadata": {},
   "source": [
    "#### Post-turn, pre-river"
   ]
  },
  {
   "cell_type": "code",
   "execution_count": 13,
   "metadata": {},
   "outputs": [
    {
     "name": "stdout",
     "output_type": "stream",
     "text": [
      "Flop: ['2♠', 'A♣', '2♢']\n",
      "Turn: ['9♡'] \n",
      "\n",
      "Hole cards and equity:\n",
      "['7♢', 'A♢'] 0.889\n",
      "['4♢', 'T♢'] 0.000\n",
      "['K♡', 'T♠'] 0.000\n",
      "['5♣', '5♠'] 0.111\n",
      "['T♣', 'K♠'] 0.000\n",
      "['8♢', 'Q♢'] 0.000\n"
     ]
    }
   ],
   "source": [
    "# Will be exact equity as # of combos small enough to not have to use Monte Carlo\n",
    "combos_post_turn = 52-2*players-3-1\n",
    "rank_array = np.zeros([combos_post_turn, players])\n",
    "\n",
    "turn = tuple(random.sample(avail_for_turn, k=1))\n",
    "avail_for_river = [x for x in avail_for_turn if x not in turn]\n",
    "\n",
    "print(\"Flop:\", list(map(get_pretty_suits, flop)))\n",
    "print(\"Turn:\", list(map(get_pretty_suits, turn)), \"\\n\")\n",
    "\n",
    "for k, river in enumerate(combinations(avail_for_river, 1)):\n",
    "    for i in range(players):\n",
    "        hole = holes_by_player[i]\n",
    "        rank_list_iter = []\n",
    "        \n",
    "        for combo in combinations(flop+turn+river, 3):\n",
    "            rank_list_iter.append(get_hand_rank(hole+combo))\n",
    "        \n",
    "        rank_array[k, i] = min(rank_list_iter)\n",
    "\n",
    "wins_array = rd(rank_array, axis=1, method='min')==1\n",
    "wins_total = (rd(rank_array, axis=1, method='min')==1).sum(axis=1).reshape(-1,1)\n",
    "equity = np.sum(wins_array/wins_total, axis=0)/combos_post_turn\n",
    "\n",
    "print(\"Hole cards and equity:\")\n",
    "for j in range(players):\n",
    "    print(list(map(get_pretty_suits, holes_by_player[j])),\n",
    "          \"{:.3f}\".format(equity[j]))"
   ]
  },
  {
   "cell_type": "markdown",
   "metadata": {},
   "source": [
    "#### Post-river final hand rank"
   ]
  },
  {
   "cell_type": "code",
   "execution_count": 14,
   "metadata": {},
   "outputs": [
    {
     "name": "stdout",
     "output_type": "stream",
     "text": [
      "Flop: ['2♠', 'A♣', '2♢']\n",
      "Turn: ['9♡']\n",
      "River: ['6♡'] \n",
      "\n",
      "Hole cards and equity:\n",
      "['7♢', 'A♢'] 1\n",
      "['4♢', 'T♢'] 0\n",
      "['K♡', 'T♠'] 0\n",
      "['5♣', '5♠'] 0\n",
      "['T♣', 'K♠'] 0\n",
      "['8♢', 'Q♢'] 0\n",
      "\n",
      " Winning hand: 2594    Aces and Deuces\n",
      "Name: HandName, dtype: object\n"
     ]
    }
   ],
   "source": [
    "rank_array = np.zeros([1, players])\n",
    "\n",
    "river = tuple(random.sample(avail_for_river, k=1))\n",
    "\n",
    "print(\"Flop:\", list(map(get_pretty_suits, flop)))\n",
    "print(\"Turn:\", list(map(get_pretty_suits, turn)))\n",
    "print(\"River:\", list(map(get_pretty_suits, river)), \"\\n\")\n",
    "\n",
    "for i in range(players):\n",
    "    hole = holes_by_player[i]\n",
    "    rank_list_iter = []\n",
    "    \n",
    "    for combo in combinations(flop+turn+river, 3):\n",
    "        rank_list_iter.append(get_hand_rank(hole+combo))\n",
    "    \n",
    "    rank_array[0, i] = min(rank_list_iter)\n",
    "        \n",
    "print(\"Hole cards and equity:\")\n",
    "for j in range(players):\n",
    "    print(list(map(get_pretty_suits, holes_by_player[j])),\n",
    "          (np.sum(rank_array.argmin(axis=1)==j)))\n",
    "\n",
    "print(\"\\n\", \"Winning hand:\", df.loc[df.Rank==np.min(rank_array), 'HandName'])"
   ]
  },
  {
   "cell_type": "code",
   "execution_count": null,
   "metadata": {},
   "outputs": [],
   "source": []
  },
  {
   "cell_type": "code",
   "execution_count": null,
   "metadata": {},
   "outputs": [],
   "source": []
  }
 ],
 "metadata": {
  "kernelspec": {
   "display_name": "Python 3",
   "language": "python",
   "name": "python3"
  },
  "language_info": {
   "codemirror_mode": {
    "name": "ipython",
    "version": 3
   },
   "file_extension": ".py",
   "mimetype": "text/x-python",
   "name": "python",
   "nbconvert_exporter": "python",
   "pygments_lexer": "ipython3",
   "version": "3.8.3"
  }
 },
 "nbformat": 4,
 "nbformat_minor": 4
}
